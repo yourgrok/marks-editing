{
  "nbformat": 4,
  "nbformat_minor": 0,
  "metadata": {
    "colab": {
      "provenance": [],
      "authorship_tag": "ABX9TyNqpvh6RT0FZXixTVtBgs66",
      "include_colab_link": true
    },
    "kernelspec": {
      "name": "python3",
      "display_name": "Python 3"
    },
    "language_info": {
      "name": "python"
    }
  },
  "cells": [
    {
      "cell_type": "markdown",
      "metadata": {
        "id": "view-in-github",
        "colab_type": "text"
      },
      "source": [
        "<a href=\"https://colab.research.google.com/github/yourgrok/marks-editing/blob/main/marksadding.ipynb\" target=\"_parent\"><img src=\"https://colab.research.google.com/assets/colab-badge.svg\" alt=\"Open In Colab\"/></a>"
      ]
    },
    {
      "cell_type": "code",
      "execution_count": 3,
      "metadata": {
        "colab": {
          "base_uri": "https://localhost:8080/"
        },
        "id": "8Rz54-YZDLEm",
        "outputId": "3b7fe049-1318-47cb-92ab-632e899bb3d8"
      },
      "outputs": [
        {
          "output_type": "stream",
          "name": "stdout",
          "text": [
            "✅ Marks aggregated and saved to output.csv\n"
          ]
        }
      ],
      "source": [
        "import csv\n",
        "from collections import defaultdict\n",
        "\n",
        "# Input and Output filenames\n",
        "input_file = 'input.csv'\n",
        "output_file = 'output.csv'\n",
        "\n",
        "# Dictionary to store sum of marks per roll number\n",
        "roll_marks = defaultdict(int)\n",
        "\n",
        "# Read the input file and accumulate marks\n",
        "with open(input_file, mode='r') as file:\n",
        "    reader = csv.DictReader(file)\n",
        "    for row in reader:\n",
        "        roll = row['Roll Num'].strip()\n",
        "        marks = int(row['Marks'].strip())\n",
        "        roll_marks[roll] += marks\n",
        "\n",
        "# Write the result to output.csv\n",
        "with open(output_file, mode='w', newline='') as file:\n",
        "    writer = csv.writer(file)\n",
        "    writer.writerow(['Roll Num', 'TotalMarks'])\n",
        "    for roll, total in sorted(roll_marks.items()):\n",
        "        writer.writerow([roll, total])\n",
        "\n",
        "print(\"✅ Marks aggregated and saved to\", output_file)\n"
      ]
    }
  ]
}